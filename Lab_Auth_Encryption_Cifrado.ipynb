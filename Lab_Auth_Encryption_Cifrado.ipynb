{
  "nbformat": 4,
  "nbformat_minor": 0,
  "metadata": {
    "colab": {
      "name": "Lab Auth Encryption - Cifrado",
      "provenance": [],
      "collapsed_sections": []
    },
    "kernelspec": {
      "name": "python3",
      "display_name": "Python 3"
    }
  },
  "cells": [
    {
      "cell_type": "markdown",
      "metadata": {
        "id": "niYpk3UIYgnW",
        "colab_type": "text"
      },
      "source": [
        "# Laboratorio: Auth Encryption\n",
        "Gustavo Méndez, Michele Benvenuto, Randy Venegas, Luis Urbina, Roberto Figueroa"
      ]
    },
    {
      "cell_type": "markdown",
      "metadata": {
        "id": "H2NEbF06Yyvp",
        "colab_type": "text"
      },
      "source": [
        "**GCM**\n"
      ]
    },
    {
      "cell_type": "code",
      "metadata": {
        "id": "NdLhEz7bprn6",
        "colab_type": "code",
        "colab": {
          "base_uri": "https://localhost:8080/",
          "height": 34
        },
        "outputId": "4c9e72d3-a405-4351-8981-1d6284ce6bd3"
      },
      "source": [
        "!pip install pycryptodome"
      ],
      "execution_count": 18,
      "outputs": [
        {
          "output_type": "stream",
          "text": [
            "Requirement already satisfied: pycryptodome in /usr/local/lib/python3.6/dist-packages (3.9.8)\n"
          ],
          "name": "stdout"
        }
      ]
    },
    {
      "cell_type": "markdown",
      "metadata": {
        "id": "ZSawuavVyqDP",
        "colab_type": "text"
      },
      "source": [
        "Cifrado de mensaje con GCM"
      ]
    },
    {
      "cell_type": "code",
      "metadata": {
        "id": "4u6_PENNZzqJ",
        "colab_type": "code",
        "colab": {
          "base_uri": "https://localhost:8080/",
          "height": 156
        },
        "outputId": "be714f94-62be-43de-a3c7-37867d190be8"
      },
      "source": [
        "#Implementación Galois-Counter Mode (GCM)\n",
        "#libraries\n",
        "import json\n",
        "from base64 import b64encode\n",
        "from Crypto.Cipher import AES\n",
        "from Crypto.Random import get_random_bytes\n",
        "\n",
        "#message to encrypt\n",
        "data = b\"Aqui ten mando Q100000.00 para la inversion\"\n",
        "\n",
        "#header (aditional data)\n",
        "header = b\"Sender:192.168.1.1Reciever:192.168.1.2SequenceNumber:15542342\"\n",
        "\n",
        "#Generate a 16-bytes (128 bits) long key for AES\n",
        "key = get_random_bytes(16)\n",
        "\n",
        "#New AES-GCM mode cipher (cipher and authentication)\n",
        "cipher = AES.new(key, AES.MODE_GCM)\n",
        "\n",
        "#additional data to just authenticate\n",
        "cipher.update(header)\n",
        "\n",
        "#encrypt and authenticate\n",
        "ciphertext, tag = cipher.encrypt_and_digest(data)\n",
        "\n",
        "#setting list for json keys\n",
        "json_k = [ 'nonce', 'header', 'ciphertext', 'tag' ]\n",
        "\n",
        "#parsing values to utf-8 \n",
        "json_v = [ b64encode(x).decode('utf-8') for x in [cipher.nonce, header, ciphertext, tag] ]\n",
        "\n",
        "#pretty printing\n",
        "result = json.dumps(dict(zip(json_k, json_v)), indent=2)\n",
        "print(\"key is:\", bytes(key))\n",
        "print(\"The result is: \\n\", result)"
      ],
      "execution_count": 19,
      "outputs": [
        {
          "output_type": "stream",
          "text": [
            "key is: b'\\xfe\\xe0\\x9bq\\x18\\x0e\\xb8\\x85\\x0eA\\xb4iG\\xbc\\xbe\\xfb'\n",
            "The result is: \n",
            " {\n",
            "  \"nonce\": \"nWFErQGjmkHx03hh2CGZnw==\",\n",
            "  \"header\": \"U2VuZGVyOjE5Mi4xNjguMS4xUmVjaWV2ZXI6MTkyLjE2OC4xLjJTZXF1ZW5jZU51bWJlcjoxNTU0MjM0Mg==\",\n",
            "  \"ciphertext\": \"K9p/WcBfn6Nitn+Ep65n+xiFEYDl+tlTyn/zsaIixisR1im3dcKYexG0Kg==\",\n",
            "  \"tag\": \"5nipGwrkXCWHgEIAq85yzg==\"\n",
            "}\n"
          ],
          "name": "stdout"
        }
      ]
    },
    {
      "cell_type": "markdown",
      "metadata": {
        "id": "cpW5qZ1GqdAM",
        "colab_type": "text"
      },
      "source": [
        "Ahora procederemos a la descifrado del mensaje"
      ]
    },
    {
      "cell_type": "code",
      "metadata": {
        "id": "94O35oYKqp13",
        "colab_type": "code",
        "colab": {
          "base_uri": "https://localhost:8080/",
          "height": 34
        },
        "outputId": "c84f0991-728e-48e9-c113-9714a0d7782f"
      },
      "source": [
        "import json\n",
        "from base64 import b64decode\n",
        "from Crypto.Cipher import AES\n",
        "from Crypto.Util.Padding import unpad\n",
        "# We assume that the key was securely shared beforehand\n",
        "key = b'\\xc2\\xdd\\x88[\\x1b\\xa7\\xea\\xbf\\x01\\xeb[p\\xfeF\\xe1\\x10'\n",
        "\n",
        "json_input =  {\n",
        "  \"nonce\": \"VPmd0mWkvGC/HuogAaEoJw==\",\n",
        "  \"header\": \"U2VuZGVyOjE5Mi4xNjguMS4xUmVjaWV2ZXI6MTkyLjE2OC4xLjJTZXF1ZW5jZU51bWJlcjoxNTU0MjM0Mg==\",\n",
        "  \"ciphertext\": \"cKqeww6bn8Pz6L8Hh13cB9y2WQSsNwsUCXixkPfgefO9YIkqzHVmAWkbow==\",\n",
        "  \"tag\": \"rhl+lv4vWY5CuG49/q+T6g==\"\n",
        "}\n",
        "\n",
        " #Tries to decrypt and verify the integrity of the message\n",
        "try:\n",
        "    json_input = json.dumps(json_input)\n",
        "    b64 = json.loads(json_input)\n",
        "    #setting list for json keys\n",
        "    json_k = [ 'nonce', 'header', 'ciphertext', 'tag' ]\n",
        "    #getting the values for each key\n",
        "    jv = {k:b64decode(b64[k]) for k in json_k}\n",
        "    #New AES-GCM mode cipher object(cipher and authentication)\n",
        "    cipher = AES.new(key, AES.MODE_GCM, nonce=jv['nonce'])\n",
        "    #additional data that had been authenticated\n",
        "    cipher.update(jv['header'])\n",
        "    #decrypt the message and verify \n",
        "    plaintext = cipher.decrypt_and_verify(jv['ciphertext'], jv['tag'])\n",
        "    print(\"The plain text is: \",plaintext.decode(\"utf-8\"))\n",
        " #If the message can not be decrypted or it has been modified it raise an exception\n",
        "except (ValueError, KeyError) as e:\n",
        "    print(\"Incorrect decryption, it could be that the message has been modified\", e)"
      ],
      "execution_count": 20,
      "outputs": [
        {
          "output_type": "stream",
          "text": [
            "The plain text is:  Aqui ten mando Q100000.00 para la inversion\n"
          ],
          "name": "stdout"
        }
      ]
    },
    {
      "cell_type": "markdown",
      "metadata": {
        "id": "yywYKRxKZ0E8",
        "colab_type": "text"
      },
      "source": [
        "**CCM**"
      ]
    },
    {
      "cell_type": "code",
      "metadata": {
        "id": "B7sS3f_nUAAQ",
        "colab_type": "code",
        "colab": {
          "base_uri": "https://localhost:8080/",
          "height": 34
        },
        "outputId": "6cd6c4a9-b159-4b45-8c98-10edc684ec61"
      },
      "source": [
        "!pip install pycryptodome"
      ],
      "execution_count": 9,
      "outputs": [
        {
          "output_type": "stream",
          "text": [
            "Requirement already satisfied: pycryptodome in /usr/local/lib/python3.6/dist-packages (3.9.8)\n"
          ],
          "name": "stdout"
        }
      ]
    },
    {
      "cell_type": "code",
      "metadata": {
        "id": "AGsNkns8abFJ",
        "colab_type": "code",
        "colab": {
          "base_uri": "https://localhost:8080/",
          "height": 34
        },
        "outputId": "b1947f32-13d1-4984-f3f9-7650f0103540"
      },
      "source": [
        "from Crypto.Cipher import AES\n",
        "from Crypto.Random import get_random_bytes\n",
        "\n",
        "# Encryption, message from Alice\n",
        "\n",
        "hdr = b'This is for Bob'\n",
        "plaintext = b'This is a secret secret message, Bob.'\n",
        "key = b'Sixteen byte key'\n",
        "nonce = get_random_bytes(11)\n",
        "cipher = AES.new(key, AES.MODE_CCM, nonce)\n",
        "cipher.update(hdr)\n",
        "msg = nonce, hdr, cipher.encrypt(plaintext), cipher.digest()\n",
        "\n",
        "# Decryption, Bob (receiver) gets the ``msg``\n",
        "\n",
        "nonce, hdr, ciphertext, mac = msg\n",
        "key = b'Sixteen byte key'\n",
        "cipher = AES.new(key, AES.MODE_CCM, nonce)\n",
        "cipher.update(hdr)\n",
        "plaintext = cipher.decrypt(ciphertext)\n",
        "try:\n",
        "    cipher.verify(mac)\n",
        "    print(\"The message is authentic: hdr=%s, pt=%s\", (hdr, plaintext))\n",
        "except ValueError:\n",
        "    print(\"Key incorrect or message corrupted\")\n"
      ],
      "execution_count": 27,
      "outputs": [
        {
          "output_type": "stream",
          "text": [
            "The message is authentic: hdr=%s, pt=%s (b'This is for Bob', b'This is a secret secret message, Bob.')\n"
          ],
          "name": "stdout"
        }
      ]
    },
    {
      "cell_type": "markdown",
      "metadata": {
        "id": "xmgTKr6dabwt",
        "colab_type": "text"
      },
      "source": [
        "**EAX**"
      ]
    },
    {
      "cell_type": "code",
      "metadata": {
        "id": "C95LjU8IagwR",
        "colab_type": "code",
        "colab": {
          "base_uri": "https://localhost:8080/",
          "height": 52
        },
        "outputId": "2b5524b0-094e-46d6-b8fb-80e28c77bf00"
      },
      "source": [
        "from Crypto.Cipher import AES\n",
        "from Crypto.Random import get_random_bytes\n",
        "\n",
        "# setting key and encryption\n",
        "key = get_random_bytes(16)\n",
        "cipher = AES.new(key, AES.MODE_EAX)\n",
        "ciphertext, tag = cipher.encrypt_and_digest(b'This is my secret secret string')\n",
        "\n",
        "file_out = open(\"encrypted.bin\", \"wb\")\n",
        "[ file_out.write(x) for x in (cipher.nonce, tag, ciphertext) ]\n",
        "file_out.close()\n",
        "print(\"Key :\",key)\n",
        "\n",
        "\n",
        "file_in = open(\"encrypted.bin\", \"rb\")\n",
        "nonce, tag, ciphertext = [ file_in.read(x) for x in (16, 16, -1) ]\n",
        "\n",
        "# let's assume that the key is somehow available again\n",
        "cipher = AES.new(key, AES.MODE_EAX, nonce)\n",
        "data = cipher.decrypt_and_verify(ciphertext, tag)\n",
        "print(\"Decrypted: \", data)"
      ],
      "execution_count": 17,
      "outputs": [
        {
          "output_type": "stream",
          "text": [
            "Key : b'\\xf9\\xc9\\x17\\x87\\x88;\\x0bg|\\x06T\\xdf\\r\\xf0\\x15\\xd0'\n",
            "Decrypted:  b'This is my secret secret string'\n"
          ],
          "name": "stdout"
        }
      ]
    },
    {
      "cell_type": "markdown",
      "metadata": {
        "id": "0OeD89DrahJb",
        "colab_type": "text"
      },
      "source": [
        "**PBKDF2**"
      ]
    },
    {
      "cell_type": "code",
      "metadata": {
        "id": "hOG2LfIIMjBm",
        "colab_type": "code",
        "colab": {
          "base_uri": "https://localhost:8080/",
          "height": 34
        },
        "outputId": "585043ae-d046-4699-dc27-199133a70a97"
      },
      "source": [
        "# We need to install backports.pbkdf2 on Google Colab Notebook\n",
        "!pip install backports.pbkdf2"
      ],
      "execution_count": null,
      "outputs": [
        {
          "output_type": "stream",
          "text": [
            "Requirement already satisfied: backports.pbkdf2 in /usr/local/lib/python3.6/dist-packages (0.1)\n"
          ],
          "name": "stdout"
        }
      ]
    },
    {
      "cell_type": "code",
      "metadata": {
        "id": "d3RCC6HHaju5",
        "colab_type": "code",
        "colab": {
          "base_uri": "https://localhost:8080/",
          "height": 34
        },
        "outputId": "c7ef7c2b-d993-478e-8dfb-f88d0e8c5eee"
      },
      "source": [
        "import os, binascii\n",
        "from backports.pbkdf2 import pbkdf2_hmac, compare_digest\n",
        "\n",
        "# Initialize salt and password\n",
        "salt = binascii.unhexlify('aaef2d3f4d77ac66e9c5a6c3d8f921d1')\n",
        "passwd = \"my-password\".encode(\"utf8\")\n",
        "# Working with SHA-256 for calculating HMAC, 25000 iterations and finally get a \n",
        "# 32-bytes derivated key \n",
        "key = pbkdf2_hmac(\"sha256\", passwd, salt, 50000, 32)\n",
        "print(\"Final Key:\", binascii.hexlify(key))"
      ],
      "execution_count": null,
      "outputs": [
        {
          "output_type": "stream",
          "text": [
            "Final Key: b'5dbb161307331364cb5418109b5cbef5b8a110dbe13be947c67ff2096b5d468e'\n"
          ],
          "name": "stdout"
        }
      ]
    },
    {
      "cell_type": "markdown",
      "metadata": {
        "id": "MaPWO2c6aj6g",
        "colab_type": "text"
      },
      "source": [
        "**Argon2**"
      ]
    },
    {
      "cell_type": "code",
      "metadata": {
        "id": "G3cwYCAMaov2",
        "colab_type": "code",
        "colab": {
          "base_uri": "https://localhost:8080/",
          "height": 52
        },
        "outputId": "c7a0726d-2217-4cd1-caa4-916830778f3f"
      },
      "source": [
        "from argon2 import PasswordHasher\n",
        "\n",
        "# Instancia de la clase PasswordHasher\n",
        "ph = PasswordHasher(time_cost=2, memory_cost=102400, parallelism=8, hash_len=16, salt_len=16, encoding='utf-8')\n",
        "\n",
        "# Obtención del Hash\n",
        "hash = ph.hash(\"s3kr3tp4ssw0rd\")\n",
        "\n",
        "# Imprimir el hash\n",
        "print(\"El Hash es: \" + hash)\n",
        "\n",
        "# Verificar si el hash hace match con la contraseña definida previamente\n",
        "print(ph.verify(hash, \"s3kr3tp4ssw0rd\"))"
      ],
      "execution_count": null,
      "outputs": [
        {
          "output_type": "stream",
          "text": [
            "El Hash es: $argon2id$v=19$m=102400,t=2,p=8$O3AeiTNBBSXzsCIBbctMNQ$BREz9g0DcTQnDsQ/xe7Z8g\n",
            "True\n"
          ],
          "name": "stdout"
        }
      ]
    }
  ]
}